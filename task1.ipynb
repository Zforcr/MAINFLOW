{
 "cells": [
  {
   "cell_type": "code",
   "execution_count": 3,
   "metadata": {},
   "outputs": [
    {
     "name": "stdout",
     "output_type": "stream",
     "text": [
      "Initial Set: {1, 2, 3, 4, 5}\n",
      "After Adding 6: {1, 2, 3, 4, 5, 6}\n",
      "After Removing 3: {1, 2, 4, 5, 6}\n"
     ]
    }
   ],
   "source": [
    "# Creating and performing operations on a set\n",
    "my_set = {1, 2, 3, 4, 5}\n",
    "print(\"Initial Set:\", my_set)\n",
    "\n",
    "# Adding elements\n",
    "my_set.add(6)  # Adds 6 to the set\n",
    "print(\"After Adding 6:\", my_set)\n",
    "\n",
    "# Removing elements\n",
    "my_set.discard(3)  # Removes 3 from the set if it exists (no error if not present)\n",
    "print(\"After Removing 3:\", my_set)\n"
   ]
  },
  {
   "cell_type": "code",
   "execution_count": 4,
   "metadata": {},
   "outputs": [
    {
     "name": "stdout",
     "output_type": "stream",
     "text": [
      "List Operations:\n",
      "Initial List: [1, 2, 3, 4, 5]\n",
      "After Adding 6: [1, 2, 3, 4, 5, 6]\n",
      "After Removing 3: [1, 2, 4, 5, 6]\n",
      "After Modifying Element at Index 1: [1, 10, 4, 5, 6]\n"
     ]
    }
   ],
   "source": [
    "# Creating and performing operations on a list\n",
    "print(\"List Operations:\")\n",
    "my_list = [1, 2, 3, 4, 5]\n",
    "print(\"Initial List:\", my_list)\n",
    "\n",
    "# Adding elements\n",
    "my_list.append(6)  # Adds 6 to the end of the list\n",
    "print(\"After Adding 6:\", my_list)\n",
    "\n",
    "# Removing elements\n",
    "my_list.remove(3)  # Removes the first occurrence of 3\n",
    "print(\"After Removing 3:\", my_list)\n",
    "\n",
    "# Modifying elements\n",
    "my_list[1] = 10  # Changes the element at index 1 to 10\n",
    "print(\"After Modifying Element at Index 1:\", my_list)\n"
   ]
  },
  {
   "cell_type": "code",
   "execution_count": 5,
   "metadata": {},
   "outputs": [
    {
     "name": "stdout",
     "output_type": "stream",
     "text": [
      "Initial Set: {1, 2, 3, 4, 5}\n",
      "After Adding 6: {1, 2, 3, 4, 5, 6}\n",
      "After Removing 3: {1, 2, 4, 5, 6}\n"
     ]
    }
   ],
   "source": [
    "# Creating and performing operations on a set\n",
    "my_set = {1, 2, 3, 4, 5}\n",
    "print(\"Initial Set:\", my_set)\n",
    "\n",
    "# Adding elements\n",
    "my_set.add(6)  # Adds 6 to the set\n",
    "print(\"After Adding 6:\", my_set)\n",
    "\n",
    "# Removing elements\n",
    "my_set.discard(3)  # Removes 3 from the set if it exists (no error if not present)\n",
    "print(\"After Removing 3:\", my_set)"
   ]
  }
 ],
 "metadata": {
  "kernelspec": {
   "display_name": "Python 3",
   "language": "python",
   "name": "python3"
  },
  "language_info": {
   "codemirror_mode": {
    "name": "ipython",
    "version": 3
   },
   "file_extension": ".py",
   "mimetype": "text/x-python",
   "name": "python",
   "nbconvert_exporter": "python",
   "pygments_lexer": "ipython3",
   "version": "3.10.11"
  }
 },
 "nbformat": 4,
 "nbformat_minor": 2
}
